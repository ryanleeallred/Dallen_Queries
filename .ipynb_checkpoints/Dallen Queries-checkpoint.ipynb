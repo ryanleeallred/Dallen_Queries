{
 "cells": [
  {
   "cell_type": "markdown",
   "metadata": {},
   "source": [
    "## Imports"
   ]
  },
  {
   "cell_type": "code",
   "execution_count": 1,
   "metadata": {},
   "outputs": [],
   "source": [
    "import pandas as pd"
   ]
  },
  {
   "cell_type": "markdown",
   "metadata": {},
   "source": [
    "## Load Data"
   ]
  },
  {
   "cell_type": "code",
   "execution_count": null,
   "metadata": {},
   "outputs": [],
   "source": [
    "\n",
    "df_20161101 =  pd.read_csv('Rx_BenefitPlan_20161101.csv', usecols=['PharmacyNumber','PharmacyTaxId', 'PharmacyNPI', 'PharmacyName',\n",
    "    'PharmacyStreetAddress1', 'PharmacyStreetAddress2', 'PharmacyCity',\n",
    "    'PharmacyState', 'PharmacyZip', 'MailOrderPharmacy'])\n",
    "\n",
    "df_20161108 =  pd.read_csv('Rx_BenefitPlan_20161108.csv', sep = '|', usecols=['PharmacyNumber','PharmacyTaxId', 'PharmacyNPI', 'PharmacyName',\n",
    "    'PharmacyStreetAddress1', 'PharmacyStreetAddress2', 'PharmacyCity',\n",
    "    'PharmacyState', 'PharmacyZip', 'MailOrderPharmacy'])\n",
    "\n",
    "df_20161116 =  pd.read_csv('Rx_BenefitPlan_20161116.csv', sep = '|', usecols=['PharmacyNumber','PharmacyTaxId', 'PharmacyNPI', 'PharmacyName',\n",
    "    'PharmacyStreetAddress1', 'PharmacyStreetAddress2', 'PharmacyCity',\n",
    "    'PharmacyState', 'PharmacyZip', 'MailOrderPharmacy'])\n",
    "\n",
    "df_20161122 =  pd.read_csv('Rx_BenefitPlan_20161122.csv', sep = '|', usecols=['PharmacyNumber','PharmacyTaxId', 'PharmacyNPI', 'PharmacyName',\n",
    "    'PharmacyStreetAddress1', 'PharmacyStreetAddress2', 'PharmacyCity',\n",
    "    'PharmacyState', 'PharmacyZip', 'MailOrderPharmacy'])\n",
    "\n",
    "df_20161129 =  pd.read_csv('Rx_BenefitPlan_20161129.csv', sep = '|', usecols=['PharmacyNumber','PharmacyTaxId', 'PharmacyNPI', 'PharmacyName',\n",
    "    'PharmacyStreetAddress1', 'PharmacyStreetAddress2', 'PharmacyCity',\n",
    "    'PharmacyState', 'PharmacyZip', 'MailOrderPharmacy'])\n",
    "\n",
    "df_20161206 =  pd.read_csv('Rx_BenefitPlan_20161206.csv', sep = '|', usecols=['PharmacyNumber','PharmacyTaxId', 'PharmacyNPI', 'PharmacyName',\n",
    "    'PharmacyStreetAddress1', 'PharmacyStreetAddress2', 'PharmacyCity',\n",
    "    'PharmacyState', 'PharmacyZip', 'MailOrderPharmacy'], low_memory=False)\n",
    "\n",
    "df_20170110 =  pd.read_csv('Rx_BenefitPlan_20170110.csv', sep = '|', usecols=['PharmacyNumber','PharmacyTaxId', 'PharmacyNPI', 'PharmacyName',\n",
    "    'PharmacyStreetAddress1', 'PharmacyStreetAddress2', 'PharmacyCity',\n",
    "    'PharmacyState', 'PharmacyZip', 'MailOrderPharmacy'])\n",
    "\n",
    "df_20170116 =  pd.read_csv('Rx_BenefitPlan_20170116.csv', sep = '|', usecols=['PharmacyNumber','PharmacyTaxId', 'PharmacyNPI', 'PharmacyName',\n",
    "    'PharmacyStreetAddress1', 'PharmacyStreetAddress2', 'PharmacyCity',\n",
    "    'PharmacyState', 'PharmacyZip', 'MailOrderPharmacy'])\n",
    "\n",
    "df_20170117 =  pd.read_csv('Rx_BenefitPlan_20170117.csv', sep = '|', usecols=['PharmacyNumber','PharmacyTaxId', 'PharmacyNPI', 'PharmacyName',\n",
    "    'PharmacyStreetAddress1', 'PharmacyStreetAddress2', 'PharmacyCity',\n",
    "    'PharmacyState', 'PharmacyZip', 'MailOrderPharmacy'])\n",
    "\n",
    "df_20170124 =  pd.read_csv('Rx_BenefitPlan_20170124.csv', sep = '|', usecols=['PharmacyNumber','PharmacyTaxId', 'PharmacyNPI', 'PharmacyName',\n",
    "    'PharmacyStreetAddress1', 'PharmacyStreetAddress2', 'PharmacyCity',\n",
    "    'PharmacyState', 'PharmacyZip', 'MailOrderPharmacy'])\n",
    "\n",
    "df_20170131 =  pd.read_csv('Rx_BenefitPlan_20170131.csv', sep = '|', usecols=['PharmacyNumber','PharmacyTaxId', 'PharmacyNPI', 'PharmacyName',\n",
    "    'PharmacyStreetAddress1', 'PharmacyStreetAddress2', 'PharmacyCity',\n",
    "    'PharmacyState', 'PharmacyZip', 'MailOrderPharmacy'])\n",
    "\n",
    "df_20170207 =  pd.read_csv('Rx_BenefitPlan_20170207.csv', sep = '|', usecols=['PharmacyNumber','PharmacyTaxId', 'PharmacyNPI', 'PharmacyName',\n",
    "    'PharmacyStreetAddress1', 'PharmacyStreetAddress2', 'PharmacyCity',\n",
    "    'PharmacyState', 'PharmacyZip', 'MailOrderPharmacy'])\n",
    "\n",
    "df_20170214 =  pd.read_csv('Rx_BenefitPlan_20170214.csv', sep = '|', usecols=['PharmacyNumber','PharmacyTaxId', 'PharmacyNPI', 'PharmacyName',\n",
    "    'PharmacyStreetAddress1', 'PharmacyStreetAddress2', 'PharmacyCity',\n",
    "    'PharmacyState', 'PharmacyZip', 'MailOrderPharmacy'])\n",
    "\n",
    "df_20170221 =  pd.read_csv('Rx_BenefitPlan_20170221.csv', sep = '|', usecols=['PharmacyNumber','PharmacyTaxId', 'PharmacyNPI', 'PharmacyName',\n",
    "    'PharmacyStreetAddress1', 'PharmacyStreetAddress2', 'PharmacyCity',\n",
    "    'PharmacyState', 'PharmacyZip', 'MailOrderPharmacy'])\n",
    "\n",
    "df_20170301 =  pd.read_csv('Rx_BenefitPlan_20170301.csv', sep = '|', usecols=['PharmacyNumber','PharmacyTaxId', 'PharmacyNPI', 'PharmacyName',\n",
    "    'PharmacyStreetAddress1', 'PharmacyStreetAddress2', 'PharmacyCity',\n",
    "    'PharmacyState', 'PharmacyZip', 'MailOrderPharmacy'], low_memory=False)"
   ]
  }
 ],
 "metadata": {
  "kernelspec": {
   "display_name": "Python 3",
   "language": "python",
   "name": "python3"
  },
  "language_info": {
   "codemirror_mode": {
    "name": "ipython",
    "version": 3
   },
   "file_extension": ".py",
   "mimetype": "text/x-python",
   "name": "python",
   "nbconvert_exporter": "python",
   "pygments_lexer": "ipython3",
   "version": "3.6.4"
  }
 },
 "nbformat": 4,
 "nbformat_minor": 2
}
